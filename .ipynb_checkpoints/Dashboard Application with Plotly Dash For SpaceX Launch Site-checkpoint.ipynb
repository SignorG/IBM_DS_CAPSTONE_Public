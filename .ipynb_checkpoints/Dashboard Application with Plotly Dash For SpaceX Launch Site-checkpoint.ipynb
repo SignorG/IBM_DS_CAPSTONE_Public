{
 "cells": [
  {
   "cell_type": "code",
   "execution_count": 1,
   "id": "a5a652c3",
   "metadata": {},
   "outputs": [],
   "source": [
    "#!wget \"https://cf-courses-data.s3.us.cloud-object-storage.appdomain.cloud/IBM-DS0321EN-SkillsNetwork/datasets/spacex_launch_dash.csv\"\n"
   ]
  },
  {
   "cell_type": "code",
   "execution_count": 2,
   "id": "cc4408f5",
   "metadata": {},
   "outputs": [],
   "source": [
    "#!wget \"https://cf-courses-data.s3.us.cloud-object-storage.appdomain.cloud/IBM-DS0321EN-SkillsNetwork/labs/module_3/spacex_dash_app.py\"\n"
   ]
  },
  {
   "cell_type": "code",
   "execution_count": 3,
   "id": "cf916074",
   "metadata": {},
   "outputs": [],
   "source": [
    "#!cat spacex_dash_app.py"
   ]
  },
  {
   "cell_type": "code",
   "execution_count": 4,
   "id": "6717e393",
   "metadata": {},
   "outputs": [],
   "source": [
    "import pandas as pd\n",
    "import dash\n",
    "from dash import html\n",
    "from dash import dcc\n",
    "from dash.dependencies import Input, Output\n",
    "import plotly.express as px"
   ]
  },
  {
   "cell_type": "code",
   "execution_count": 5,
   "id": "ad53803c",
   "metadata": {},
   "outputs": [],
   "source": [
    "# Read the airline data into pandas dataframe\n",
    "spacex_df = pd.read_csv(\"spacex_launch_dash.csv\")\n",
    "max_payload = spacex_df['Payload Mass (kg)'].max()\n",
    "min_payload = spacex_df['Payload Mass (kg)'].min()"
   ]
  },
  {
   "cell_type": "code",
   "execution_count": 6,
   "id": "cf6e5d6d",
   "metadata": {},
   "outputs": [],
   "source": [
    "# Create a dash application\n",
    "app = dash.Dash(__name__)"
   ]
  },
  {
   "cell_type": "code",
   "execution_count": 7,
   "id": "c4e93bc5",
   "metadata": {},
   "outputs": [],
   "source": [
    "spacex_df.drop(\"Unnamed: 0\",  axis = 1, inplace = True)"
   ]
  },
  {
   "cell_type": "code",
   "execution_count": 8,
   "id": "8c727204",
   "metadata": {},
   "outputs": [
    {
     "data": {
      "text/html": [
       "<div>\n",
       "<style scoped>\n",
       "    .dataframe tbody tr th:only-of-type {\n",
       "        vertical-align: middle;\n",
       "    }\n",
       "\n",
       "    .dataframe tbody tr th {\n",
       "        vertical-align: top;\n",
       "    }\n",
       "\n",
       "    .dataframe thead th {\n",
       "        text-align: right;\n",
       "    }\n",
       "</style>\n",
       "<table border=\"1\" class=\"dataframe\">\n",
       "  <thead>\n",
       "    <tr style=\"text-align: right;\">\n",
       "      <th></th>\n",
       "      <th>Flight Number</th>\n",
       "      <th>Launch Site</th>\n",
       "      <th>class</th>\n",
       "      <th>Payload Mass (kg)</th>\n",
       "      <th>Booster Version</th>\n",
       "      <th>Booster Version Category</th>\n",
       "    </tr>\n",
       "  </thead>\n",
       "  <tbody>\n",
       "    <tr>\n",
       "      <th>0</th>\n",
       "      <td>1</td>\n",
       "      <td>CCAFS LC-40</td>\n",
       "      <td>0</td>\n",
       "      <td>0.0</td>\n",
       "      <td>F9 v1.0  B0003</td>\n",
       "      <td>v1.0</td>\n",
       "    </tr>\n",
       "    <tr>\n",
       "      <th>1</th>\n",
       "      <td>2</td>\n",
       "      <td>CCAFS LC-40</td>\n",
       "      <td>0</td>\n",
       "      <td>0.0</td>\n",
       "      <td>F9 v1.0  B0004</td>\n",
       "      <td>v1.0</td>\n",
       "    </tr>\n",
       "    <tr>\n",
       "      <th>2</th>\n",
       "      <td>3</td>\n",
       "      <td>CCAFS LC-40</td>\n",
       "      <td>0</td>\n",
       "      <td>525.0</td>\n",
       "      <td>F9 v1.0  B0005</td>\n",
       "      <td>v1.0</td>\n",
       "    </tr>\n",
       "    <tr>\n",
       "      <th>3</th>\n",
       "      <td>4</td>\n",
       "      <td>CCAFS LC-40</td>\n",
       "      <td>0</td>\n",
       "      <td>500.0</td>\n",
       "      <td>F9 v1.0  B0006</td>\n",
       "      <td>v1.0</td>\n",
       "    </tr>\n",
       "    <tr>\n",
       "      <th>4</th>\n",
       "      <td>5</td>\n",
       "      <td>CCAFS LC-40</td>\n",
       "      <td>0</td>\n",
       "      <td>677.0</td>\n",
       "      <td>F9 v1.0  B0007</td>\n",
       "      <td>v1.0</td>\n",
       "    </tr>\n",
       "  </tbody>\n",
       "</table>\n",
       "</div>"
      ],
      "text/plain": [
       "   Flight Number  Launch Site  class  Payload Mass (kg) Booster Version  \\\n",
       "0              1  CCAFS LC-40      0                0.0  F9 v1.0  B0003   \n",
       "1              2  CCAFS LC-40      0                0.0  F9 v1.0  B0004   \n",
       "2              3  CCAFS LC-40      0              525.0  F9 v1.0  B0005   \n",
       "3              4  CCAFS LC-40      0              500.0  F9 v1.0  B0006   \n",
       "4              5  CCAFS LC-40      0              677.0  F9 v1.0  B0007   \n",
       "\n",
       "  Booster Version Category  \n",
       "0                     v1.0  \n",
       "1                     v1.0  \n",
       "2                     v1.0  \n",
       "3                     v1.0  \n",
       "4                     v1.0  "
      ]
     },
     "execution_count": 8,
     "metadata": {},
     "output_type": "execute_result"
    }
   ],
   "source": [
    "spacex_df.head()"
   ]
  },
  {
   "cell_type": "code",
   "execution_count": 9,
   "id": "a1690717",
   "metadata": {},
   "outputs": [],
   "source": [
    "# Create an app layout\n",
    "app.layout = html.Div(children=[html.H1('SpaceX Launch Records Dashboard',\n",
    "                                        style={'textAlign': 'center', 'color': '#503D36',\n",
    "                                               'font-size': 40}),\n",
    "                                # TASK 1: Add a dropdown list to enable Launch Site selection\n",
    "                                # The default select value is for ALL sites\n",
    "                                dcc.Dropdown(id='site-dropdown', options=[\n",
    "                                                     {'label': 'All Sites', 'value': 'ALL'},\n",
    "                                                     {'label': 'CCAFS LC-40', 'value': 'CCAFS LC-40'},\n",
    "                                                     {'label': 'VAFB SLC-4E', 'value': 'VAFB SLC-4E'},\n",
    "                                                     {'label': 'KSC LC-39A', 'value': 'KSC LC-39A'},\n",
    "                                                     {'label': 'CCAFS SLC-40', 'value': 'CCAFS SLC-40'}\n",
    "                                                     ],\n",
    "                                             value='ALL',\n",
    "                                             placeholder='Select a Launch Site here',\n",
    "                                             searchable=True),\n",
    "                                html.Br(),\n",
    "\n",
    "                                # TASK 2: Add a pie chart to show the total successful launches count for all sites\n",
    "                                # If a specific launch site was selected, show the Success vs. Failed counts for the site\n",
    "                                html.Div(dcc.Graph(id='success-pie-chart')),\n",
    "                                html.Br(),\n",
    "\n",
    "                                html.P(\"Payload range (Kg):\"),\n",
    "                                # TASK 3: Add a slider to select payload range\n",
    "                                dcc.RangeSlider(id='payload-slider',\n",
    "                                                min=0,\n",
    "                                                max=10000,\n",
    "                                                step=500,\n",
    "                                                value=[min_payload, max_payload]\n",
    "                                                ),\n",
    "\n",
    "                                # TASK 4: Add a scatter chart to show the correlation between payload and launch success\n",
    "                                html.Div(dcc.Graph(id='success-payload-scatter-chart')),\n",
    "                                ])\n",
    "\n",
    "\n",
    "@app.callback(Output(component_id='success-pie-chart', component_property='figure'),\n",
    "              Input(component_id='site-dropdown', component_property='value'))\n",
    "def get_pie_chart(input_site):\n",
    "    \n",
    "    overall_success = spacex_df\n",
    "    overall_success['Utility Counter'] = [1 for i in overall_success['class']]\n",
    "    overall_success = spacex_df.groupby(by=\"Launch Site\").sum()\n",
    "    overall_success.reset_index(inplace=True)\n",
    "    overall_success[\"Launch Site Success Rate\"] = (overall_success['class']/overall_success['Utility Counter'])\n",
    "\n",
    "    if input_site == 'ALL':\n",
    "\n",
    "        pie_chart = px.pie(overall_success, values=\"Launch Site Success Rate\", \n",
    "        names='Launch Site',\n",
    "        title='Success Count for Overall Launch Sites')\n",
    "        return pie_chart\n",
    "    else:\n",
    "        single_site = overall_success[overall_success['Launch Site'] == input_site]\n",
    "        single_site_tr = single_site[['class', 'Utility Counter']].transpose()\n",
    "        single_site_tr.columns = ['Success and Total']\n",
    "        pie_chart=px.pie(single_site_tr ,values='Success and Total',\n",
    "                         names=[\"Success\", \"Fail\"], color = ['blue','red'] ,title=f\"Success Launches for Site {input_site}\")\n",
    "\n",
    "                       \n",
    "        return pie_chart"
   ]
  },
  {
   "cell_type": "code",
   "execution_count": 10,
   "id": "258f3fc3",
   "metadata": {},
   "outputs": [],
   "source": [
    "#get_pie_chart(\"ALL\") #that was for test "
   ]
  },
  {
   "cell_type": "code",
   "execution_count": 11,
   "id": "a75b0e80",
   "metadata": {},
   "outputs": [],
   "source": [
    "@app.callback(Output(component_id='success-payload-scatter-chart',component_property='figure'),\n",
    "                [Input(component_id='site-dropdown',component_property='value'),\n",
    "                Input(component_id='payload-slider',component_property='value')])\n",
    "def scatter(input_site,payload_range):\n",
    "    df_interest = spacex_df[(spacex_df['Payload Mass (kg)'] >= payload_range[0]) & \n",
    "                           (spacex_df['Payload Mass (kg)'] <= payload_range[1])]\n",
    "    \n",
    "    if input_site=='ALL':\n",
    "        scatter_plot=px.scatter(df_interest,x='Payload Mass (kg)',y='class',color='Booster Version Category',title='Success on Payload Overall Data')\n",
    "        return scatter_plot\n",
    "    else:\n",
    "        scatter_plot=px.scatter(df_interest[df_interest['Launch Site']==input_site],x='Payload Mass (kg)',y='class',color='Booster Version Category',title=f\"Success on Payload mass for the Site: {input_site}\")\n",
    "        return scatter_plot"
   ]
  },
  {
   "cell_type": "code",
   "execution_count": 12,
   "id": "603c67f9",
   "metadata": {},
   "outputs": [],
   "source": [
    "#scatter('ALL', [1000, 6000]) ##always for test purpose\n"
   ]
  },
  {
   "cell_type": "code",
   "execution_count": null,
   "id": "2d7229c6",
   "metadata": {},
   "outputs": [],
   "source": []
  },
  {
   "cell_type": "code",
   "execution_count": 13,
   "id": "4736df7f",
   "metadata": {},
   "outputs": [
    {
     "name": "stdout",
     "output_type": "stream",
     "text": [
      "Dash is running on http://127.0.0.1:8050/\n",
      "\n",
      " * Serving Flask app '__main__'\n",
      " * Debug mode: off\n"
     ]
    },
    {
     "name": "stderr",
     "output_type": "stream",
     "text": [
      "\u001b[31m\u001b[1mWARNING: This is a development server. Do not use it in a production deployment. Use a production WSGI server instead.\u001b[0m\n",
      " * Running on http://127.0.0.1:8050\n",
      "\u001b[33mPress CTRL+C to quit\u001b[0m\n",
      "127.0.0.1 - - [09/Jan/2023 11:04:43] \"GET / HTTP/1.1\" 200 -\n",
      "127.0.0.1 - - [09/Jan/2023 11:04:44] \"GET /_dash-layout HTTP/1.1\" 200 -\n",
      "127.0.0.1 - - [09/Jan/2023 11:04:44] \"GET /_dash-dependencies HTTP/1.1\" 200 -\n",
      "127.0.0.1 - - [09/Jan/2023 11:04:44] \"\u001b[36mGET /_dash-component-suites/dash/dcc/async-dropdown.js HTTP/1.1\u001b[0m\" 304 -\n",
      "127.0.0.1 - - [09/Jan/2023 11:04:44] \"\u001b[36mGET /_dash-component-suites/dash/dcc/async-graph.js HTTP/1.1\u001b[0m\" 304 -\n",
      "127.0.0.1 - - [09/Jan/2023 11:04:44] \"\u001b[36mGET /_dash-component-suites/dash/dcc/async-plotlyjs.js HTTP/1.1\u001b[0m\" 304 -\n",
      "127.0.0.1 - - [09/Jan/2023 11:04:44] \"\u001b[36mGET /_dash-component-suites/dash/dcc/async-slider.js HTTP/1.1\u001b[0m\" 304 -\n",
      "127.0.0.1 - - [09/Jan/2023 11:04:45] \"POST /_dash-update-component HTTP/1.1\" 200 -\n",
      "127.0.0.1 - - [09/Jan/2023 11:04:45] \"POST /_dash-update-component HTTP/1.1\" 200 -\n",
      "127.0.0.1 - - [09/Jan/2023 11:04:49] \"POST /_dash-update-component HTTP/1.1\" 200 -\n",
      "127.0.0.1 - - [09/Jan/2023 11:04:53] \"POST /_dash-update-component HTTP/1.1\" 200 -\n",
      "127.0.0.1 - - [09/Jan/2023 11:04:54] \"POST /_dash-update-component HTTP/1.1\" 200 -\n",
      "127.0.0.1 - - [09/Jan/2023 11:04:54] \"POST /_dash-update-component HTTP/1.1\" 200 -\n",
      "127.0.0.1 - - [09/Jan/2023 11:04:56] \"POST /_dash-update-component HTTP/1.1\" 200 -\n",
      "127.0.0.1 - - [09/Jan/2023 11:05:01] \"POST /_dash-update-component HTTP/1.1\" 200 -\n",
      "127.0.0.1 - - [09/Jan/2023 11:05:01] \"POST /_dash-update-component HTTP/1.1\" 200 -\n",
      "127.0.0.1 - - [09/Jan/2023 11:05:05] \"POST /_dash-update-component HTTP/1.1\" 200 -\n"
     ]
    }
   ],
   "source": [
    "if __name__ == '__main__':\n",
    "    app.run_server()"
   ]
  },
  {
   "cell_type": "code",
   "execution_count": null,
   "id": "424a8b8e",
   "metadata": {},
   "outputs": [],
   "source": []
  },
  {
   "cell_type": "code",
   "execution_count": null,
   "id": "2ec0b992",
   "metadata": {},
   "outputs": [],
   "source": []
  },
  {
   "cell_type": "code",
   "execution_count": null,
   "id": "65920b0d",
   "metadata": {},
   "outputs": [],
   "source": []
  },
  {
   "cell_type": "code",
   "execution_count": null,
   "id": "56ca506f",
   "metadata": {},
   "outputs": [],
   "source": []
  },
  {
   "cell_type": "code",
   "execution_count": null,
   "id": "c22e6e53",
   "metadata": {},
   "outputs": [],
   "source": []
  }
 ],
 "metadata": {
  "kernelspec": {
   "display_name": "Python 3 (ipykernel)",
   "language": "python",
   "name": "python3"
  },
  "language_info": {
   "codemirror_mode": {
    "name": "ipython",
    "version": 3
   },
   "file_extension": ".py",
   "mimetype": "text/x-python",
   "name": "python",
   "nbconvert_exporter": "python",
   "pygments_lexer": "ipython3",
   "version": "3.8.10"
  }
 },
 "nbformat": 4,
 "nbformat_minor": 5
}
